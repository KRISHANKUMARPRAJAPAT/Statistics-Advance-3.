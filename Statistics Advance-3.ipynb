{
 "cells": [
  {
   "cell_type": "markdown",
   "id": "34d5e2f4-1eea-42aa-91aa-ed38f70da574",
   "metadata": {},
   "source": [
    "# Q1: What is Estimation Statistics? Explain point estimate and interval estimate."
   ]
  },
  {
   "cell_type": "markdown",
   "id": "360e2a4a-b4ee-4cf5-b305-00df418fb199",
   "metadata": {},
   "source": [
    "# Ans : 1 \n",
    "\n",
    "\n",
    "Estimation in statistics is the process of using sample data to make inferences or predictions about population parameters (e.g., mean, variance) when the entire population is not feasible to measure or observe. \n",
    "\n",
    "**Estimation involves calculating point estimates and interval estimates.**\n",
    "\n",
    "- **Point Estimate:**\n",
    "A point estimate is a single value that serves as the \"best guess\" or approximation of the population parameter. It is derived from sample data and is used to estimate the corresponding parameter in the entire population. Point estimates are often obtained by calculating the sample statistics, such as the sample mean (x̄) or the sample proportion (p), and then using these statistics as estimates for the population mean (μ) or population proportion (P).\n",
    "For example, if you have a sample of 100 students and you want to estimate the average height of all students in a school, you can calculate the sample mean height of the 100 students and use that value as a point estimate for the population mean height.\n",
    "\n",
    "- **Interval Estimate (Confidence Interval):**\n",
    "An interval estimate, also known as a confidence interval, is a range of values within which the true population parameter is likely to lie with a certain level of confidence. Unlike point estimates, interval estimates provide a measure of uncertainty around the estimated parameter.\n",
    "Confidence intervals are constructed based on the point estimate and the variability of the sample data. The confidence level (e.g., 95%, 99%) reflects the percentage of times that the interval estimate will contain the true population parameter if we were to repeat the sampling process many times.\n",
    "\n",
    "For example, a 95% confidence interval for the average height of students might be [160 cm, 165 cm]. \n",
    "This means that we are 95% confident that the true average height of all students in the school falls within this interval.\n",
    "\n",
    "The width of the confidence interval depends on the variability of the sample data and the chosen confidence level. A wider interval indicates higher uncertainty, while a narrower interval suggests more precise estimation."
   ]
  },
  {
   "cell_type": "code",
   "execution_count": null,
   "id": "f3210abc-5e97-4762-97ef-18f52c04d011",
   "metadata": {},
   "outputs": [],
   "source": []
  },
  {
   "cell_type": "markdown",
   "id": "73ed20cd-798d-4902-a33b-112fafb799f4",
   "metadata": {},
   "source": [
    "# Q2. Write a Python function to estimate the population mean using a sample mean and standard deviation."
   ]
  },
  {
   "cell_type": "markdown",
   "id": "f847ec5a-354b-45ee-8ced-9f1d4c76bed8",
   "metadata": {},
   "source": [
    "# Ans: 2 \n",
    "\n",
    "\n",
    "To estimate the population mean using a sample mean and standard deviation, you can use the formula for the sample mean, as the sample mean itself is an unbiased estimator of the population mean. You don't need the sample standard deviation for estimating the population mean, but it can be useful for calculating confidence intervals or standard errors."
   ]
  },
  {
   "cell_type": "code",
   "execution_count": 3,
   "id": "dc2cffe9-1316-4732-86de-d433d6c391c9",
   "metadata": {},
   "outputs": [
    {
     "name": "stdout",
     "output_type": "stream",
     "text": [
      "Estimated population mean: 45.8\n"
     ]
    }
   ],
   "source": [
    "def estimate_population_mean(sample_mean, sample_size):\n",
    "    \n",
    "    # Sample mean is an unbiased estimator of the population mean\n",
    "    population_mean = sample_mean\n",
    "    \n",
    "    return population_mean\n",
    "\n",
    "# Example usage:\n",
    "sample_mean = 45.8\n",
    "sample_size = 100\n",
    "estimated_mean = estimate_population_mean(sample_mean, sample_size)\n",
    "print(\"Estimated population mean:\", estimated_mean)"
   ]
  },
  {
   "cell_type": "code",
   "execution_count": null,
   "id": "0f42ac85-1024-4287-8a9c-b54f90c9e6be",
   "metadata": {},
   "outputs": [],
   "source": []
  },
  {
   "cell_type": "markdown",
   "id": "f10df1fb-6d2b-4c02-838e-83799b78dc22",
   "metadata": {},
   "source": [
    "# Q3: What is Hypothesis testing? Why is it used? State the importance of Hypothesis testing."
   ]
  },
  {
   "cell_type": "markdown",
   "id": "8a118966-1f67-4e51-b78d-756b72532d14",
   "metadata": {
    "tags": []
   },
   "source": [
    "# Ans: 3 \n",
    "\n",
    "\n",
    "Hypothesis testing is a statistical method used to make decisions or draw conclusions about a population based on sample data. It involves formulating two competing hypotheses, the null hypothesis (H0) and the alternative hypothesis (Ha), and then using sample data to assess the evidence in favor of one of these hypotheses.\n",
    "\n",
    "**The process of hypothesis testing involves the following steps:**\n",
    "\n",
    "- **Formulating Hypotheses:** The null hypothesis (H0) represents the default or status quo assumption, while the alternative hypothesis (Ha) represents the claim or the effect we are interested in testing.\n",
    "\n",
    "- **Choosing a Test Statistic:** Selecting an appropriate test statistic that summarizes the sample data and can help differentiate between the null and alternative hypotheses.\n",
    "\n",
    "- **Setting a Significance Level:** Determining the level of significance (α) to define the threshold for statistical significance. Commonly used significance levels are 0.05 (5%) or 0.01 (1%).\n",
    "\n",
    "- **Calculating the Test Statistic:** Computing the test statistic using the sample data.\n",
    "\n",
    "- **Determining the Critical Region:** Establishing the critical region or rejection region, which is the range of test statistic values that would lead to the rejection of the null hypothesis.\n",
    "\n",
    "- **Making a Decision:**Comparing the calculated test statistic with the critical values. If the test statistic falls within the critical region, we reject the null hypothesis in favor of the alternative hypothesis. Otherwise, we fail to reject the null hypothesis.\n",
    "\n",
    ".\n",
    "\n",
    "**Importance of Hypothesis Testing:**\n",
    "\n",
    "- **Inference from Sample Data:** Hypothesis testing allows us to draw conclusions about population parameters based on sample data. It helps make informed decisions in the face of uncertainty.\n",
    "\n",
    "- **Scientific Research:** Hypothesis testing is an essential tool in scientific research. Researchers use it to test hypotheses and validate their findings, ensuring that the observed results are not due to random chance.\n",
    "\n",
    "- **Quality Control:** In manufacturing and industrial processes, hypothesis testing is used to ensure the quality and consistency of products by evaluating sample data against specified standards.\n",
    "\n",
    "- **Medical Studies:** In medical research, hypothesis testing is used to assess the effectiveness of treatments and compare the outcomes of different groups in clinical trials.\n",
    "\n",
    "- -**Business Decisions:** In business and marketing, hypothesis testing helps evaluate the impact of changes or interventions, such as advertising campaigns or product modifications.\n",
    "\n",
    "- **Statistical Significance:** Hypothesis testing provides a framework for determining whether observed differences or relationships in data are statistically significant or merely due to random variation.\n",
    "\n",
    "- **Legal and Regulatory Compliance:** In legal contexts, hypothesis testing can be used to analyze evidence and make legal decisions.\n"
   ]
  },
  {
   "cell_type": "code",
   "execution_count": null,
   "id": "31b74cae-0c23-4835-94cd-2ce010dfdce2",
   "metadata": {},
   "outputs": [],
   "source": []
  },
  {
   "cell_type": "markdown",
   "id": "5b07d45b-39d2-4860-bcf3-bfa044481c3f",
   "metadata": {},
   "source": [
    "# Q4. Create a hypothesis that states whether the average weight of male college students is greater than the average weight of female college students."
   ]
  },
  {
   "cell_type": "markdown",
   "id": "5f5b2ef2-36d2-4229-91e9-7dcb3cd63cc7",
   "metadata": {
    "tags": []
   },
   "source": [
    "# Ans: 4 \n",
    "\n",
    "**Null Hypothesis (H0):** The average weight of male college students is equal to or less than the average weight of female college students.\n",
    "\n",
    "**Alternative Hypothesis (Ha):** The average weight of male college students is greater than the average weight of female college students.\n",
    "\n",
    "In symbols:\n",
    "\n",
    "H0: μ_male ≤ μ_female\n",
    "Ha: μ_male > μ_female\n",
    "\n",
    "where:\n",
    "\n",
    "H0 represents the null hypothesis.\n",
    "\n",
    "Ha represents the alternative hypothesis.\n",
    "\n",
    "μ_male represents the population mean weight of male college students.\n",
    "\n",
    "μ_female represents the population mean weight of female college students.\n",
    "\n",
    "\n",
    "This hypothesis tests whether there is evidence to suggest that, on average, male college students weigh more than female college students. The hypothesis will be tested using sample data to draw conclusions about the entire population of male and female college students."
   ]
  },
  {
   "cell_type": "code",
   "execution_count": null,
   "id": "b1f6ac7f-0158-4dfe-ac00-1329c45f9663",
   "metadata": {},
   "outputs": [],
   "source": []
  },
  {
   "cell_type": "markdown",
   "id": "a8e0d943-0291-4f08-bf83-c001ec675eb3",
   "metadata": {},
   "source": [
    "# Q5. Write a Python script to conduct a hypothesis test on the difference between two population means, given a sample from each population."
   ]
  },
  {
   "cell_type": "code",
   "execution_count": 4,
   "id": "bd5dcfda-d758-4ed4-991e-8521dd7bde39",
   "metadata": {},
   "outputs": [
    {
     "name": "stdout",
     "output_type": "stream",
     "text": [
      "T-statistic: 3.1608267412297972\n",
      "P-value: 0.013378286315010035\n",
      "Conclusion: Reject the null hypothesis\n"
     ]
    }
   ],
   "source": [
    "# Ans: 5\n",
    "\n",
    "import numpy as np\n",
    "import scipy.stats as stats\n",
    "\n",
    "def two_sample_t_test(sample1, sample2, alpha=0.05):\n",
    "    # Calculate the sample means and standard deviations\n",
    "    mean1, mean2 = np.mean(sample1), np.mean(sample2)\n",
    "    std1, std2 = np.std(sample1, ddof=1), np.std(sample2, ddof=1)\n",
    "    \n",
    "    # Calculate the degrees of freedom\n",
    "    n1, n2 = len(sample1), len(sample2)\n",
    "    dof = n1 + n2 - 2\n",
    "    \n",
    "    # Calculate the t-statistic\n",
    "    numerator = mean1 - mean2\n",
    "    denominator = np.sqrt((std1**2 / n1) + (std2**2 / n2))\n",
    "    t_statistic = numerator / denominator\n",
    "    \n",
    "    # Calculate the critical t-value for a two-tailed test (alpha/2)\n",
    "    critical_t = stats.t.ppf(1 - alpha/2, dof)\n",
    "    \n",
    "    # Calculate the p-value for a two-tailed test\n",
    "    p_value = 2 * (1 - stats.t.cdf(abs(t_statistic), dof))\n",
    "    \n",
    "    # Conduct the hypothesis test\n",
    "    if abs(t_statistic) > critical_t:\n",
    "        conclusion = \"Reject the null hypothesis\"\n",
    "    else:\n",
    "        conclusion = \"Fail to reject the null hypothesis\"\n",
    "    \n",
    "    return t_statistic, p_value, conclusion\n",
    "\n",
    "# Example usage:\n",
    "sample1 = [65, 68, 70, 63, 72]\n",
    "sample2 = [57, 62, 60, 65, 61]\n",
    "alpha = 0.05\n",
    "\n",
    "t_stat, p_val, result = two_sample_t_test(sample1, sample2, alpha)\n",
    "\n",
    "print(\"T-statistic:\", t_stat)\n",
    "print(\"P-value:\", p_val)\n",
    "print(\"Conclusion:\", result)"
   ]
  },
  {
   "cell_type": "code",
   "execution_count": null,
   "id": "3d13db88-aa80-4565-931f-e2fe7bee0558",
   "metadata": {},
   "outputs": [],
   "source": []
  },
  {
   "cell_type": "markdown",
   "id": "fb7536d6-821c-41bf-8434-db6930d836c7",
   "metadata": {},
   "source": [
    "# Q6: What is a null and alternative hypothesis? Give some examples."
   ]
  },
  {
   "cell_type": "markdown",
   "id": "bfc58cd4-080c-4d9b-a9d0-d6e31b41a880",
   "metadata": {
    "tags": []
   },
   "source": [
    "# Ans: 6\n",
    "\n",
    "\n",
    "The null hypothesis (H0) and alternative hypothesis (Ha) are two complementary statements used in hypothesis testing to assess the validity of a claim or make inferences about a population based on sample data.\n",
    "\n",
    "**Null Hypothesis (H0):**\n",
    "The null hypothesis is the default assumption or status quo. It represents the idea that there is no significant difference, effect, or relationship in the population. In other words, it assumes that any observed differences or patterns in the sample data are due to random chance or sampling variability.\n",
    "\n",
    "\n",
    "Examples of null hypotheses:\n",
    "\n",
    "- H0: The mean height of male college students is equal to the mean height of female college students.\n",
    "- H0: There is no difference in test scores between two teaching methods.\n",
    "- H0: The proportion of defective products produced by Machine A is equal to the proportion produced by Machine B.\n",
    "\n",
    "\n",
    "**Alternative Hypothesis (Ha):**\n",
    "\n",
    "The alternative hypothesis is the claim or effect that we are interested in testing. It is the statement that contradicts the null hypothesis and suggests that there is a significant difference, effect, or relationship in the population.\n",
    "Examples of alternative hypotheses:\n",
    "\n",
    "- Ha: The mean height of male college students is greater than the mean height of female college students.\n",
    "- Ha: There is a difference in test scores between two teaching methods.\n",
    "- Ha: The proportion of defective products produced by Machine A is different from the proportion produced by Machine B.\n",
    "\n",
    "In hypothesis testing, we collect sample data and use statistical methods to assess the evidence in favor of either the null hypothesis or the alternative hypothesis. The goal is to determine whether there is enough evidence to reject the null hypothesis in favor of the alternative hypothesis, indicating that the observed difference or effect is not due to random chance but likely represents a true effect in the population."
   ]
  },
  {
   "cell_type": "code",
   "execution_count": null,
   "id": "c2f7ced0-251e-4407-9e35-f54548e63fc2",
   "metadata": {},
   "outputs": [],
   "source": []
  },
  {
   "cell_type": "markdown",
   "id": "1e30891c-71f4-42af-b6ba-830115fbe19d",
   "metadata": {},
   "source": [
    "# Q7: Write down the steps involved in hypothesis testing."
   ]
  },
  {
   "cell_type": "markdown",
   "id": "9932c218-b759-4774-a0cb-817549b17e9d",
   "metadata": {},
   "source": [
    "# Ans: 7 \n",
    "\n",
    "\n",
    "Hypothesis testing is a structured process used to make decisions about population parameters based on sample data. \n",
    "\n",
    "**The steps involved in hypothesis testing are as follows:**\n",
    "\n",
    "- **State the Hypotheses:**\n",
    "Clearly define the null hypothesis (H0) and the alternative hypothesis (Ha). The null hypothesis represents the default assumption, while the alternative hypothesis represents the claim or effect we want to test.\n",
    "\n",
    "- **Choose the Test Statistic:**\n",
    "Select an appropriate test statistic that summarizes the sample data and can help differentiate between the null and alternative hypotheses. The choice of test statistic depends on the type of data and the specific hypothesis being tested.\n",
    "\n",
    "- **Set the Significance Level (Alpha):**\n",
    "Determine the significance level (α), which represents the probability of making a Type I error (rejecting the null hypothesis when it is true). Commonly used significance levels are 0.05 (5%) or 0.01 (1%), but it can vary based on the context and desired level of confidence.\n",
    "\n",
    "- **Calculate the Test Statistic:**\n",
    "Compute the test statistic using the sample data. This involves plugging the sample data into the chosen test statistic formula.\n",
    "\n",
    "- **Determine the Critical Region (Rejection Region):**\n",
    "Establish the critical region or rejection region, which is the range of test statistic values that would lead to the rejection of the null hypothesis. The critical region is determined based on the significance level and the specific test being performed.\n",
    "\n",
    "- **Calculate the P-Value:**\n",
    "Alternatively or additionally, calculate the p-value, which is the probability of obtaining a test statistic as extreme as the one observed, assuming the null hypothesis is true. The p-value helps assess the strength of the evidence against the null hypothesis.\n",
    "\n",
    "- **Make a Decision:**\n",
    "Compare the calculated test statistic (or p-value) with the critical values or the significance level. If the test statistic falls within the critical region or the p-value is less than the significance level, reject the null hypothesis in favor of the alternative hypothesis. Otherwise, fail to reject the null hypothesis.\n",
    "\n",
    "- **Draw Conclusions:**\n",
    "Based on the decision made in the previous step, draw conclusions about the population parameter. State whether there is enough evidence to support the alternative hypothesis or not.\n",
    "\n",
    "- **Interpretation:**\n",
    "Interpret the results of the hypothesis test in the context of the problem. Explain the implications of the findings and discuss their practical significance."
   ]
  },
  {
   "cell_type": "code",
   "execution_count": null,
   "id": "7ffbf78e-e4b8-4419-b042-ee3803cb12a8",
   "metadata": {},
   "outputs": [],
   "source": []
  },
  {
   "cell_type": "markdown",
   "id": "658e65b6-ebf9-4476-87b6-8e535a9ff364",
   "metadata": {},
   "source": [
    "# Q8. Define p-value and explain its significance in hypothesis testing."
   ]
  },
  {
   "cell_type": "markdown",
   "id": "83019bf1-326a-41fa-b4aa-96fb381de929",
   "metadata": {},
   "source": [
    "# Ans:  8\n",
    "\n",
    "\n",
    "\n",
    "The p-value, short for \"probability value,\" is a crucial concept in hypothesis testing. It quantifies the strength of the evidence against the null hypothesis (H0) and provides a way to assess the statistical significance of the results obtained from a hypothesis test.\n",
    "\n",
    "In hypothesis testing, after calculating the test statistic (e.g., t-statistic, z-score) from the sample data, we compare it with the critical values or use it to calculate the p-value. The p-value represents the probability of obtaining a test statistic as extreme as the one observed, assuming that the null hypothesis is true.\n",
    "It's important to note that the p-value alone does not prove the truth or falsity of the null hypothesis. It only provides evidence against or in favor of the null hypothesis based on the observed data. Additionally, the p-value does not provide information about the effect size or the practical significance of the results; it solely deals with the statistical significance.\n",
    "\n",
    "\n",
    "**Significance of the p-value in Hypothesis Testing:**\n",
    "\n",
    "- **Interpretation of Results:** A small p-value (typically less than the chosen significance level, α) suggests that the observed sample data is highly unlikely to occur under the assumption of the null hypothesis. It indicates strong evidence against the null hypothesis, favoring the alternative hypothesis (Ha).\n",
    "\n",
    "- **Decision Rule:** The p-value can be used to make decisions in hypothesis testing. If the p-value is less than or equal to the significance level (α), we reject the null hypothesis in favor of the alternative hypothesis. Conversely, if the p-value is greater than α, we fail to reject the null hypothesis.\n",
    "\n",
    "- **Objective Measure:** The p-value provides an objective measure of the strength of evidence against the null hypothesis. It allows researchers and analysts to quantify the significance of their findings in statistical terms.\n",
    "\n",
    "- **Comparing Studies:** The p-value allows for comparisons between different studies or experiments. Researchers can assess the level of evidence against the null hypothesis across various studies by comparing their respective p-values.\n",
    "\n",
    "- **Adjusting Significance Level:** The p-value provides flexibility in setting the significance level (α) based on the desired level of confidence or the context of the problem. For example, if a higher level of confidence is required, a lower significance level (e.g., α = 0.01) can be chosen."
   ]
  },
  {
   "cell_type": "code",
   "execution_count": null,
   "id": "d425150a-d98f-4a4f-9790-3e19a442a944",
   "metadata": {},
   "outputs": [],
   "source": []
  },
  {
   "cell_type": "markdown",
   "id": "613e2664-d005-46ef-bce6-5e6af28517ed",
   "metadata": {},
   "source": [
    "# Q9. Generate a Student's t-distribution plot using Python's matplotlib library, with the degrees of freedom parameter set to 10."
   ]
  },
  {
   "cell_type": "markdown",
   "id": "1ed4b775-211d-46d2-bb24-dee99efb978a",
   "metadata": {},
   "source": [
    "# Ans: 9\n",
    "\n",
    "To generate a Student's t-distribution plot with degrees of freedom (df) set to 10 using Python's matplotlib library, you can use the scipy.stats.t module to calculate the probability density function (PDF) and then plot the distribution."
   ]
  },
  {
   "cell_type": "code",
   "execution_count": 6,
   "id": "46e97e59-7976-40da-a281-1ab1f1078fb9",
   "metadata": {},
   "outputs": [
    {
     "data": {
      "image/png": "[encoded data removed]",
      "text/plain": [
       "<Figure size 640x480 with 1 Axes>"
      ]
     },
     "metadata": {},
     "output_type": "display_data"
    }
   ],
   "source": [
    "import numpy as np \n",
    "import matplotlib.pyplot as plt \n",
    "import scipy.stats as stats\n",
    "\n",
    "# Degree of freedom \n",
    "df = 10 \n",
    "\n",
    "# Generate data points for x-axis\n",
    "x = np.linspace(-5,5,500)\n",
    "\n",
    "# calculate the probability density fucntion for student's t distribution\n",
    "pdf = stats.t.pdf(x, df)\n",
    "\n",
    "# Plot the Student's t-distribution\n",
    "plt.plot(x, pdf, label=f\"t-distribution (df = {df})\")\n",
    "plt.xlabel('x')\n",
    "plt.ylabel('Probability Density')\n",
    "plt.title('Student\\'s t-distribution')\n",
    "plt.legend()\n",
    "plt.grid(True)\n",
    "plt.show()"
   ]
  },
  {
   "cell_type": "code",
   "execution_count": null,
   "id": "8d9967a8-7205-4a4e-a437-afd56607d686",
   "metadata": {},
   "outputs": [],
   "source": []
  },
  {
   "cell_type": "markdown",
   "id": "a1ffb38b-98c6-4c9c-a7b6-73dc5e3aa3a2",
   "metadata": {},
   "source": [
    "# Q10. Write a Python program to calculate the two-sample t-test for independent samples, given two random samples of equal size and a null hypothesis that the population means are equal."
   ]
  },
  {
   "cell_type": "code",
   "execution_count": 8,
   "id": "0c7fee19-50eb-45bf-9add-89d8c3a99751",
   "metadata": {},
   "outputs": [
    {
     "name": "stdout",
     "output_type": "stream",
     "text": [
      "Two-Sample T-Test Results:\n",
      "Sample 1 mean: 9.54905218948772\n",
      "Sample 2 mean: 12.035561740935904\n",
      "T-statistic: -6.872731683285841\n",
      "P-value: 5.877565294167719e-10\n",
      "Reject the null hypothesis. There is significant evidence that the population means are different.\n"
     ]
    }
   ],
   "source": [
    "# Ans: 10 \n",
    "\n",
    "\n",
    "def two_sample_t_test(sample1, sample2):\n",
    "    \n",
    "    # Perform two-sample t-test\n",
    "    t_statistic, p_value = stats.ttest_ind(sample1, sample2)\n",
    "    \n",
    "    return t_statistic, p_value\n",
    "\n",
    "# Example usage:\n",
    "\n",
    "# Generate two random samples of equal size (n) from normal distributions\n",
    "n = 50\n",
    "np.random.seed(42)\n",
    "sample1 = np.random.normal(loc=10, scale=2, size=n)\n",
    "sample2 = np.random.normal(loc=12, scale=2, size=n)\n",
    "\n",
    "# Perform the two-sample t-test\n",
    "t_stat, p_val = two_sample_t_test(sample1, sample2)\n",
    "\n",
    "# Print the results\n",
    "print(\"Two-Sample T-Test Results:\")\n",
    "print(\"Sample 1 mean:\", np.mean(sample1))\n",
    "print(\"Sample 2 mean:\", np.mean(sample2))\n",
    "print(\"T-statistic:\", t_stat)\n",
    "print(\"P-value:\", p_val)\n",
    "\n",
    "# Interpretation of the results\n",
    "alpha = 0.05\n",
    "if p_val < alpha:\n",
    "    print(\"Reject the null hypothesis. There is significant evidence that the population means are different.\")\n",
    "else:\n",
    "    print(\"Fail to reject the null hypothesis. There is no significant evidence that the population means are different.\")"
   ]
  },
  {
   "cell_type": "code",
   "execution_count": null,
   "id": "0cdb96b5-ffac-4677-9c93-559b7181af70",
   "metadata": {},
   "outputs": [],
   "source": []
  },
  {
   "cell_type": "markdown",
   "id": "6630fa3c-f108-4033-9e5f-35ef7334033b",
   "metadata": {},
   "source": [
    "# Q11: What is Student’s t distribution? When to use the t-Distribution."
   ]
  },
  {
   "cell_type": "markdown",
   "id": "929324b8-5385-49ce-ac42-9626bb9d2b39",
   "metadata": {},
   "source": [
    "# Ans: 11\n",
    "\n",
    "\n",
    "Student's t-distribution, often referred to simply as the t-distribution, is a probability distribution that is used in hypothesis testing, confidence interval estimation, and statistical inference when the sample size is small and the population standard deviation is unknown.\n",
    "\n",
    "The t-distribution is similar to the standard normal distribution (Z-distribution), but it has heavier tails. The shape of the t-distribution depends on the degrees of freedom (df). As the degrees of freedom increase, the t-distribution approaches the standard normal distribution.\n",
    "\n",
    "**When to use the t-Distribution:**\n",
    "\n",
    "- **Small Sample Size:** The t-distribution is specifically appropriate when dealing with small sample sizes, typically when the sample size is less than 30. For larger sample sizes (e.g., greater than 30), the t-distribution closely approximates the standard normal distribution, and Z-tests can be used instead.\n",
    "\n",
    "- **Unknown Population Standard Deviation:** In many real-world scenarios, the population standard deviation is unknown. When this is the case, the t-distribution is used to estimate population parameters based on the sample data.\n",
    "\n",
    "- **Confidence Interval Estimation:** When calculating confidence intervals for population parameters (e.g., population mean), and the sample size is small or the population standard deviation is unknown, the t-distribution is employed.\n",
    "\n",
    "- **Hypothesis Testing:** In hypothesis testing involving small sample sizes, the t-distribution is used when the population standard deviation is unknown. For example, when comparing the means of two groups with small sample sizes, the t-test for independent samples or paired samples may be used.\n",
    "\n",
    "- **Data with Outliers:** The t-distribution is known to be more robust to outliers compared to the standard normal distribution. Hence, when dealing with data that may contain outliers, the t-distribution can provide more reliable results.\n"
   ]
  },
  {
   "cell_type": "code",
   "execution_count": null,
   "id": "6e5fb33f-686e-4d97-8a50-cc639749bdf9",
   "metadata": {},
   "outputs": [],
   "source": []
  },
  {
   "cell_type": "markdown",
   "id": "b4fbec9f-a8c6-487e-b03c-0a31f668bdcf",
   "metadata": {},
   "source": [
    "# Q12: What is t-statistic? State the formula for t-statistic."
   ]
  },
  {
   "cell_type": "markdown",
   "id": "7ac5ae62-2375-4c46-931d-44dd776291a3",
   "metadata": {},
   "source": [
    "# Ans: 12\n",
    "\n",
    "\n",
    "\n",
    "The t-statistic is a statistical measure that quantifies the difference between the sample mean and the hypothesized population mean in units of the standard error. It is commonly used in hypothesis testing to assess whether the observed difference between a sample and the population is statistically significant.\n",
    "\n",
    "The formula for the t-statistic is:\n",
    "\n",
    "**t = (x̄ - μ) / (s / √n)**\n",
    "\n",
    "where:\n",
    "\n",
    "t is the t-statistic.\n",
    "x̄ is the sample mean.\n",
    "μ is the hypothesized population mean (usually given in the null hypothesis).\n",
    "s is the sample standard deviation.\n",
    "n is the sample size.\n",
    "The t-statistic measures how many standard errors the sample mean deviates from the hypothesized population mean. If the t-statistic is large, it indicates that the sample mean differs significantly from the population mean, which can lead to the rejection of the null hypothesis in favor of the alternative hypothesis.\n",
    "\n",
    "When conducting a one-sample t-test, you use the t-statistic to calculate the p-value, which helps determine the statistical significance of the results and whether to reject or fail to reject the null hypothesis. In a two-sample t-test, the t-statistic is used to assess the difference between the means of two independent samples.\n",
    "\n",
    "It's important to note that the t-statistic follows a t-distribution, which depends on the degrees of freedom (df). The degrees of freedom are equal to the sample size minus one (df = n - 1) for one-sample t-tests and (df = n1 + n2 - 2) for two-sample t-tests with samples of sizes n1 and n2. The t-distribution accounts for the increased uncertainty associated with estimating the population standard deviation from the sample standard deviation when the sample size is small. As the sample size increases, the t-distribution approaches the standard normal distribution (Z-distribution)."
   ]
  },
  {
   "cell_type": "code",
   "execution_count": null,
   "id": "170840e1-d657-43b7-81b2-d0acaf997c1b",
   "metadata": {},
   "outputs": [],
   "source": []
  },
  {
   "cell_type": "markdown",
   "id": "0c8e1869-96c4-4f86-b754-3d64d105f3bd",
   "metadata": {},
   "source": [
    "# Q13. A coffee shop owner wants to estimate the average daily revenue for their shop. They take a random sample of 50 days and find the sample mean revenue to be 500 dollers with a standard deviation of 50 dollers. Estimate the population mean revenue with a 95% confidence interval."
   ]
  },
  {
   "cell_type": "markdown",
   "id": "a08fbccf-08de-4cb7-b40c-ef2bfdf3d1e9",
   "metadata": {},
   "source": [
    "# Ans: 13\n",
    "\n",
    "\n",
    "To estimate the population mean revenue with a 95% confidence interval, we can use the formula for a confidence interval for the mean when the population standard deviation is unknown. Since the sample size is relatively large (n = 50), we can use the t-distribution to calculate the confidence interval.\n",
    "\n",
    "The formula for the confidence interval for the population mean (μ) is:\n",
    "\n",
    "Confidence Interval = **x̄ ± (t * (s / √n))**\n",
    "\n",
    "\n",
    "\n",
    "\n",
    "Let's calculate the confidence interval in Python:"
   ]
  },
  {
   "cell_type": "code",
   "execution_count": 9,
   "id": "91f16865-a9b8-4118-8904-b8ebfef1b7a3",
   "metadata": {},
   "outputs": [
    {
     "name": "stdout",
     "output_type": "stream",
     "text": [
      "95% Confidence Interval for Population Mean Revenue:\n",
      "Lower bound: 485.79015724388137\n",
      "Upper bound: 514.2098427561186\n"
     ]
    }
   ],
   "source": [
    "# Given sample statistics\n",
    "sample_mean = 500\n",
    "sample_std = 50\n",
    "sample_size = 50\n",
    "\n",
    "# Calculate the critical value (t) for a 95% confidence level\n",
    "confidence_level = 0.95\n",
    "degrees_of_freedom = sample_size - 1\n",
    "t_critical = stats.t.ppf(confidence_level + (1 - confidence_level) / 2, df=degrees_of_freedom)\n",
    "\n",
    "# Calculate the margin of error\n",
    "margin_of_error = t_critical * (sample_std / (sample_size ** 0.5))\n",
    "\n",
    "# Calculate the confidence interval\n",
    "confidence_interval = (sample_mean - margin_of_error, sample_mean + margin_of_error)\n",
    "\n",
    "print(\"95% Confidence Interval for Population Mean Revenue:\")\n",
    "print(\"Lower bound:\", confidence_interval[0])\n",
    "print(\"Upper bound:\", confidence_interval[1])"
   ]
  },
  {
   "cell_type": "code",
   "execution_count": null,
   "id": "973328a3-463c-4008-b854-380de69b7218",
   "metadata": {},
   "outputs": [],
   "source": []
  },
  {
   "cell_type": "markdown",
   "id": "efb5e2e2-621e-4a74-a133-e1ddbc03ad22",
   "metadata": {},
   "source": [
    "# Q14. A researcher hypothesizes that a new drug will decrease blood pressure by 10 mmHg. They conduct a clinical trial with 100 patients and find that the sample mean decrease in blood pressure is 8 mmHg with a standard deviation of 3 mmHg. Test the hypothesis with a significance level of 0.05."
   ]
  },
  {
   "cell_type": "markdown",
   "id": "8717cb7b-69a6-4a20-bf14-61e332f934d1",
   "metadata": {},
   "source": [
    "# Ans: 14\n",
    "\n",
    "\n",
    "To test the hypothesis that the new drug decreases blood pressure by 10 mmHg, we can use a one-sample t-test. The null hypothesis (H0) is that the drug does not decrease blood pressure by 10 mmHg, and the alternative hypothesis (Ha) is that the drug does decrease blood pressure by 10 mmHg.\n",
    "\n",
    "\n",
    "We can use the t-test formula to calculate the t-statistic:\n",
    "\n",
    "**t = (x̄ - μ) / (s / √n)**"
   ]
  },
  {
   "cell_type": "code",
   "execution_count": 10,
   "id": "61098ef5-bc54-470f-a54e-aa794dc19066",
   "metadata": {},
   "outputs": [
    {
     "name": "stdout",
     "output_type": "stream",
     "text": [
      "T-statistic: -6.666666666666667\n",
      "Critical t-value: 1.9842169515086827\n",
      "Conclusion: Reject the null hypothesis. The drug significantly decreases blood pressure.\n"
     ]
    }
   ],
   "source": [
    "# Given sample statistics\n",
    "sample_mean = 8\n",
    "sample_std = 3\n",
    "sample_size = 100\n",
    "null_mean = 10  # Hypothesized population mean under the null hypothesis\n",
    "\n",
    "# Calculate the t-statistic\n",
    "t_statistic = (sample_mean - null_mean) / (sample_std / np.sqrt(sample_size))\n",
    "\n",
    "# Degrees of freedom (n-1)\n",
    "degrees_of_freedom = sample_size - 1\n",
    "\n",
    "# Calculate the critical t-value for a two-tailed test (alpha/2 = 0.05/2 = 0.025)\n",
    "alpha = 0.05\n",
    "t_critical = stats.t.ppf(1 - alpha / 2, df=degrees_of_freedom)\n",
    "\n",
    "# Compare the t-statistic with the critical t-value\n",
    "if abs(t_statistic) > t_critical:\n",
    "    conclusion = \"Reject the null hypothesis. The drug significantly decreases blood pressure.\"\n",
    "else:\n",
    "    conclusion = \"Fail to reject the null hypothesis. There is not enough evidence to suggest a significant decrease in blood pressure.\"\n",
    "\n",
    "# Print the results\n",
    "print(\"T-statistic:\", t_statistic)\n",
    "print(\"Critical t-value:\", t_critical)\n",
    "print(\"Conclusion:\", conclusion)"
   ]
  },
  {
   "cell_type": "code",
   "execution_count": null,
   "id": "4117afac-f525-40b6-9919-42bd05ef8b12",
   "metadata": {},
   "outputs": [],
   "source": []
  },
  {
   "cell_type": "markdown",
   "id": "44306b02-ba49-4a68-92d9-edbfb2ed4c4a",
   "metadata": {},
   "source": [
    "# Q15. An electronics company produces a certain type of product with a mean weight of 5 pounds and a standard deviation of 0.5 pounds. A random sample of 25 products is taken, and the sample mean weight is found to be 4.8 pounds. Test the hypothesis that the true mean weight of the products is less than 5 pounds with a significance level of 0.01."
   ]
  },
  {
   "cell_type": "markdown",
   "id": "e6f7eab5-e569-4bf3-bed5-fa9d946142e7",
   "metadata": {},
   "source": [
    "# Ans: 15 \n",
    "\n",
    "\n",
    "\n",
    "To test the hypothesis that the true mean weight of the products is less than 5 pounds, we can use a one-sample t-test with a one-tailed test. The null hypothesis (H0) is that the true mean weight is equal to or greater than 5 pounds, and the alternative hypothesis (Ha) is that the true mean weight is less than 5 pounds.\n",
    "\n",
    "\n",
    "We can use the t-test formula to calculate the t-statistic:\n",
    "    \n",
    "**t = (x̄ - μ) / (σ / √n)**\n"
   ]
  },
  {
   "cell_type": "code",
   "execution_count": 12,
   "id": "da9286f8-9537-41e8-b989-9e0a33bb9831",
   "metadata": {},
   "outputs": [
    {
     "name": "stdout",
     "output_type": "stream",
     "text": [
      "T-statistic: -2.0000000000000018\n",
      "Critical t-value: -2.4921594731575762\n",
      "Conclusion: Fail to reject the null hypothesis. There is not enough evidence to suggest that the true mean weight is less than 5 pounds.\n"
     ]
    }
   ],
   "source": [
    "# Given sample statistics\n",
    "sample_mean = 4.8\n",
    "population_std = 0.5\n",
    "sample_size = 25\n",
    "null_mean = 5  # Hypothesized population mean under the null hypothesis\n",
    "\n",
    "# Calculate the standard error of the sample mean\n",
    "standard_error = population_std / np.sqrt(sample_size)\n",
    "\n",
    "# Calculate the t-statistic\n",
    "t_statistic = (sample_mean - null_mean) / standard_error\n",
    "\n",
    "# Degrees of freedom (n-1)\n",
    "degrees_of_freedom = sample_size - 1\n",
    "\n",
    "# Calculate the critical t-value for a one-tailed test at alpha = 0.01\n",
    "alpha = 0.01\n",
    "t_critical = stats.t.ppf(alpha, df=degrees_of_freedom)\n",
    "\n",
    "# Compare the t-statistic with the critical t-value\n",
    "if t_statistic < t_critical:\n",
    "    conclusion = \"Reject the null hypothesis. The true mean weight is less than 5 pounds.\"\n",
    "else:\n",
    "    conclusion = \"Fail to reject the null hypothesis. There is not enough evidence to suggest that the true mean weight is less than 5 pounds.\"\n",
    "\n",
    "# Print the results\n",
    "print(\"T-statistic:\", t_statistic)\n",
    "print(\"Critical t-value:\", t_critical)\n",
    "print(\"Conclusion:\", conclusion)"
   ]
  },
  {
   "cell_type": "code",
   "execution_count": null,
   "id": "d069ca78-5aa4-4a6c-8775-361752f541f3",
   "metadata": {},
   "outputs": [],
   "source": []
  },
  {
   "cell_type": "markdown",
   "id": "29d198c9-1cb7-4d5d-96f0-3a9d7e2be0e1",
   "metadata": {},
   "source": [
    "# Q16. Two groups of students are given different study materials to prepare for a test. The first group (n1 = 30) has a mean score of 80 with a standard deviation of 10, and the second group (n2 = 40) has a mean score of 75 with a standard deviation of 8. Test the hypothesis that the population means for the two groups are equal with a significance level of 0.01."
   ]
  },
  {
   "cell_type": "markdown",
   "id": "aa435a25-bf34-421d-ab41-384e0ee65d03",
   "metadata": {},
   "source": [
    "# Ans: 16\n",
    "\n",
    "\n",
    "\n",
    "To test the hypothesis that the population means for the two groups are equal, we can use a two-sample t-test for independent samples. The null hypothesis (H0) is that the population means are equal, and the alternative hypothesis (Ha) is that the population means are not equal.\n",
    "\n",
    "Given:\n",
    "\n",
    "- Sample size of the first group (n1) = 30\n",
    "- Sample mean of the first group (x̄1) = 80\n",
    "- Sample standard deviation of the first group (s1) = 10\n",
    "- Sample size of the second group (n2) = 40\n",
    "- Sample mean of the second group (x̄2) = 75\n",
    "- Sample standard deviation of the second group (s2) = 8\n",
    "\n",
    "\n",
    "\n",
    "We can use the two-sample t-test formula to calculate the t-statistic:\n",
    "\n",
    "**t = (x̄1 - x̄2) / √((s1^2 / n1) + (s2^2 / n2))**"
   ]
  },
  {
   "cell_type": "code",
   "execution_count": 13,
   "id": "145f3ab9-fa45-4b87-af7a-dc480c800d5c",
   "metadata": {},
   "outputs": [
    {
     "name": "stdout",
     "output_type": "stream",
     "text": [
      "T-statistic: 2.2511258444537408\n",
      "Critical t-value: 2.6500812928169553\n",
      "Conclusion: Fail to reject the null hypothesis. There is not enough evidence to suggest that the population means are different.\n"
     ]
    }
   ],
   "source": [
    "# Given sample statistics for Group 1\n",
    "sample_mean1 = 80\n",
    "sample_std1 = 10\n",
    "sample_size1 = 30\n",
    "\n",
    "# Given sample statistics for Group 2\n",
    "sample_mean2 = 75\n",
    "sample_std2 = 8\n",
    "sample_size2 = 40\n",
    "\n",
    "# Calculate the pooled standard error\n",
    "pooled_std_error = np.sqrt((sample_std1**2 / sample_size1) + (sample_std2**2 / sample_size2))\n",
    "\n",
    "# Calculate the t-statistic\n",
    "t_statistic = (sample_mean1 - sample_mean2) / pooled_std_error\n",
    "\n",
    "# Degrees of freedom (n1 + n2 - 2)\n",
    "degrees_of_freedom = sample_size1 + sample_size2 - 2\n",
    "\n",
    "# Calculate the critical t-value for a two-tailed test at alpha = 0.01\n",
    "alpha = 0.01\n",
    "t_critical = stats.t.ppf(1 - alpha / 2, df=degrees_of_freedom)\n",
    "\n",
    "# Compare the t-statistic with the critical t-value\n",
    "if abs(t_statistic) > t_critical:\n",
    "    conclusion = \"Reject the null hypothesis. The population means are not equal.\"\n",
    "else:\n",
    "    conclusion = \"Fail to reject the null hypothesis. There is not enough evidence to suggest that the population means are different.\"\n",
    "\n",
    "# Print the results\n",
    "print(\"T-statistic:\", t_statistic)\n",
    "print(\"Critical t-value:\", t_critical)\n",
    "print(\"Conclusion:\", conclusion)\n"
   ]
  },
  {
   "cell_type": "code",
   "execution_count": null,
   "id": "3c8adb6e-b651-42ca-87b5-79d156d9bb6d",
   "metadata": {},
   "outputs": [],
   "source": []
  },
  {
   "cell_type": "markdown",
   "id": "137c4b05-0704-4010-b821-ea0d6b015997",
   "metadata": {},
   "source": [
    "# Q17. A marketing company wants to estimate the average number of ads watched by viewers during a TV program. They take a random sample of 50 viewers and find that the sample mean is 4 with a standard deviation of 1.5. Estimate the population mean with a 99% confidence interval."
   ]
  },
  {
   "cell_type": "markdown",
   "id": "aa8cc0e3-3f2b-4949-97e7-9f0827f8a834",
   "metadata": {},
   "source": [
    "# Ans: 17 \n",
    "\n",
    "To estimate the population mean number of ads watched by viewers during a TV program with a 99% confidence interval, we can use the formula for a confidence interval for the mean when the population standard deviation is unknown. Since the sample size is relatively large (n = 50), we can use the t-distribution to calculate the confidence interval.\n",
    "\n",
    "The formula for the confidence interval for the population mean (μ) is:\n",
    "\n",
    "Confidence Interval = **x̄ ± (t * (s / √n))**"
   ]
  },
  {
   "cell_type": "code",
   "execution_count": null,
   "id": "7d5242ca-2cc8-4263-b7e0-997a28dabc58",
   "metadata": {},
   "outputs": [],
   "source": [
    "# Given sample statistics\n",
    "sample_mean = 4\n",
    "sample_std = 1.5\n",
    "sample_size = 50\n",
    "\n",
    "# Calculate the critical value (t) for a 99% confidence level\n",
    "confidence_level = 0.99\n",
    "degrees_of_freedom = sample_size - 1\n",
    "t_critical = stats.t.ppf(confidence_level + (1 - confidence_level) / 2, df=degrees_of_freedom)\n",
    "\n",
    "# Calculate the margin of error\n",
    "margin_of_error = t_critical * (sample_std / (sample_size ** 0.5))\n",
    "\n",
    "# Calculate the confidence interval\n",
    "confidence_interval = (sample_mean - margin_of_error, sample_mean + margin_of_error)\n",
    "\n",
    "print(\"99% Confidence Interval for Population Mean Number of Ads Watched:\")\n",
    "print(\"Lower bound:\", confidence_interval[0])\n",
    "print(\"Upper bound:\", confidence_interval[1])\n"
   ]
  }
 ],
 "metadata": {
  "kernelspec": {
   "display_name": "Python 3 (ipykernel)",
   "language": "python",
   "name": "python3"
  },
  "language_info": {
   "codemirror_mode": {
    "name": "ipython",
    "version": 3
   },
   "file_extension": ".py",
   "mimetype": "text/x-python",
   "name": "python",
   "nbconvert_exporter": "python",
   "pygments_lexer": "ipython3",
   "version": "3.10.8"
  }
 },
 "nbformat": 4,
 "nbformat_minor": 5
}
